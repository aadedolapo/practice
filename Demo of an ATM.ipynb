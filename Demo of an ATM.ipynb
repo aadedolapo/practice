{
  "cells": [
    {
      "metadata": {
        "trusted": true
      },
      "cell_type": "code",
      "source": "correct_pin = 6452\n\nservices = {'Withdraw':{'Type of account':['Savings','Current','Credit']},\n            'Enquiry':{'Type of account':['Savings','Current','Credit']},\n            'Airtime':{'Operator':['MTN','Airtel','Glo','9mobile']}\n            }\nprint('Welcome to our bank\\n\\nPlease insert your card\\n\\n\\nPlease maintain social distance\\n\\n#Take Responsiibility')\npin = input('Please enter your secret number: ')\nwhile True:\n    if int(pin) == correct_pin:\n        service = input('What do you want to do? ').title()\n        while True:\n            if service in services:\n                lev_2 = services[service]\n                answer = input('Select enter your {}: '.format(lev_2)).title()\n                while True:\n                        if service == 'Withdraw':\n                            amt = input('Please enter your amount: ')\n                            print('\\n.\\n.\\n.\\n.\\nPlease take your cash\\n\\nThank you for banking with us')\n                            break\n                        elif service == 'Enquiry':\n                            amt = '---- Naira'\n                            print('Your account balance is {}'.format(amt))\n                            break\n                        elif service == 'Airtime':\n                            amt = input('Please enter your amount: ')\n                            print('\\n.\\n.\\n.\\nTransaction successful\\n\\nThank you for banking with us')\n                            break\n                break\n        break\n    else:\n        print('Incorrect Pin')\n        pin = input('Please enter your secret number: ')\nprint('Transaction completed')\nprint(service)\nprint(answer)\nprint(amt)\nprint('Good bye')",
      "execution_count": 1,
      "outputs": [
        {
          "output_type": "stream",
          "text": "Welcome to our bank\n\nPlease insert your card\n\n\nPlease maintain social distance\n\n#Take Responsiibility\nPlease enter your secret number: 6452\nWhat do you want to do? withdraw\nSelect enter your {'Type of account': ['Savings', 'Current', 'Credit']}: current\nPlease enter your amount: 5200\n\n.\n.\n.\n.\nPlease take your cash\n\nThank you for banking with us\nTransaction completed\nWithdraw\nCurrent\n5200\nGood bye\n",
          "name": "stdout"
        }
      ]
    },
    {
      "metadata": {
        "trusted": true
      },
      "cell_type": "code",
      "source": "",
      "execution_count": null,
      "outputs": []
    }
  ],
  "metadata": {
    "kernelspec": {
      "name": "python36",
      "display_name": "Python 3.6",
      "language": "python"
    },
    "language_info": {
      "mimetype": "text/x-python",
      "nbconvert_exporter": "python",
      "name": "python",
      "pygments_lexer": "ipython3",
      "version": "3.6.6",
      "file_extension": ".py",
      "codemirror_mode": {
        "version": 3,
        "name": "ipython"
      }
    }
  },
  "nbformat": 4,
  "nbformat_minor": 2
}